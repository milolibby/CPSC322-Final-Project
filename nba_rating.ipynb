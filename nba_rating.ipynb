{
 "cells": [
  {
   "cell_type": "markdown",
   "metadata": {},
   "source": [
    "# **NBA Ratings Classifier EDA**"
   ]
  },
  {
   "cell_type": "code",
   "execution_count": 10,
   "metadata": {},
   "outputs": [
    {
     "data": {
      "text/plain": [
       "<module 'mysklearn.myevaluation' from '/home/CPSC322-Final-Project/mysklearn/myevaluation.py'>"
      ]
     },
     "execution_count": 10,
     "metadata": {},
     "output_type": "execute_result"
    }
   ],
   "source": [
    "import importlib\n",
    "\n",
    "import mysklearn.mypytable as mypytable\n",
    "import mysklearn.myutils as myutils\n",
    "import mysklearn.myevaluation as myevaluation\n",
    "import mysklearn.myclassifiers as myclassifiers\n",
    "\n",
    "\n",
    "importlib.reload(myutils)\n",
    "importlib.reload(mypytable)\n",
    "importlib.reload(myevaluation)"
   ]
  },
  {
   "cell_type": "markdown",
   "metadata": {},
   "source": [
    "### Dataset: nba_ratings.csv (https://www.kaggle.com/datasets/willyiamyu/nba-2k-ratings-with-real-nba-stats?select=nba_rankings_2014-2020.csv)\n",
    "> We will immediately remote several attributes from the dataset that will are either too specific (ex. player name, team name, season) \n",
    "or redundant (ex. offensive rebounds, defensive rebounds, 3pt attempts, FG attempts)\n",
    "\n",
    "\n",
    "> The dataset that we will be using will consist of the attributes below. We will derive all subsets of data from this dataset.\n",
    "* GP (Games Played)\n",
    "* AGE (Age)\n",
    "* W (wins)\n",
    "* L (losses)\n",
    "* MIN (minutes played)\n",
    "* PTS (points per game)\n",
    "* FG % (field goal percentage)\n",
    "* FGM (field goals made)\n",
    "* 3P% (3 pointers made)\n",
    "* FT% (free throw percentage)\n",
    "* REB (rebounds)\n",
    "* +/- (plus/minus metric)\n",
    "\n",
    "> These attributes will be used to classify the \"ranking\" (NBA 2K Ratings) of each instance (player)\n"
   ]
  },
  {
   "cell_type": "code",
   "execution_count": 11,
   "metadata": {},
   "outputs": [
    {
     "name": "stdout",
     "output_type": "stream",
     "text": [
      "358 rows were removed during cleaning\n",
      "['low', 'low', 'low', 'low', 'low', 'low', 'low', 'low', 'low', 'low', 'low', 'low', 'low', 'low', 'low', 'low', 'high', 'low', 'low', 'high', 'low', 'high', 'low', 'low', 'low', 'low', 'low', 'high', 'low', 'high', 'high', 'low', 'low', 'low', 'high', 'low', 'high', 'low', 'low', 'high', 'low', 'high', 'low', 'low', 'low', 'low', 'high', 'high', 'low', 'low', 'low', 'low', 'low', 'high', 'low', 'low', 'low', 'low', 'low', 'low', 'low', 'low', 'high', 'low', 'low', 'low', 'low', 'low', 'low', 'low', 'high', 'low', 'low', 'high', 'low', 'low', 'low', 'high', 'low', 'low', 'low', 'low', 'low', 'low', 'low', 'low', 'low', 'high', 'low', 'low', 'low', 'high', 'low', 'low', 'high', 'low', 'low', 'low', 'low', 'low', 'low', 'low', 'low', 'high', 'low', 'low', 'high', 'low', 'low', 'low', 'low', 'low', 'low', 'high', 'high', 'low', 'low', 'low', 'low', 'low', 'low', 'low', 'low', 'low', 'low', 'low', 'low', 'low', 'low', 'low', 'low', 'low', 'low', 'high', 'low', 'low', 'low', 'low', 'low', 'low', 'low', 'low', 'high', 'low', 'low', 'low', 'low', 'low', 'low', 'low', 'low', 'low', 'low', 'high', 'low', 'low', 'low', 'high', 'low', 'low', 'low', 'low', 'low', 'high', 'low', 'low', 'low', 'low', 'low', 'low', 'high', 'low', 'low', 'low', 'low', 'low', 'low', 'low', 'low', 'low', 'low', 'low', 'high', 'low', 'high', 'low', 'low', 'high', 'low', 'low', 'low', 'low', 'low', 'high', 'low', 'high', 'low', 'low', 'low', 'low', 'low', 'low', 'low', 'low', 'low', 'high', 'low', 'high', 'high', 'low', 'low', 'low', 'high', 'high', 'low', 'low', 'low', 'low', 'low', 'low', 'low', 'low', 'low', 'low', 'low', 'high', 'low', 'low', 'low', 'low', 'low', 'low', 'low', 'low', 'low', 'high', 'low', 'low', 'high', 'high', 'low', 'low', 'low', 'low', 'high', 'high', 'low', 'low', 'low', 'low', 'low', 'low', 'low', 'high', 'low', 'low', 'high', 'low', 'low', 'high', 'low', 'low', 'low', 'low', 'high', 'low', 'high', 'high', 'low', 'low', 'low', 'low', 'high', 'low', 'low', 'low', 'low', 'high', 'low', 'low', 'low', 'high', 'low', 'low', 'low', 'low', 'low', 'low', 'low', 'low', 'low', 'low', 'low', 'high', 'low', 'low', 'low', 'low', 'low', 'low', 'low', 'low', 'low', 'low', 'low', 'high', 'low', 'low', 'low', 'low', 'low', 'low', 'low', 'low', 'low', 'low', 'low', 'low', 'low', 'low', 'low', 'low', 'low', 'low', 'low', 'low', 'high', 'high', 'low', 'low', 'low', 'low', 'low', 'low', 'low', 'high', 'low', 'low', 'low', 'low', 'high', 'low', 'low', 'low', 'low', 'low', 'low', 'low', 'low', 'low', 'low', 'low', 'low', 'low', 'low', 'low', 'low', 'low', 'low', 'low', 'low', 'low', 'high', 'low', 'low', 'low', 'low', 'low', 'low', 'low', 'low', 'high', 'low', 'low', 'low', 'low', 'low', 'low', 'high', 'low', 'low', 'high', 'low', 'low', 'low', 'low', 'low', 'low', 'low', 'low', 'low', 'low', 'low', 'low', 'low', 'low', 'low', 'low', 'low', 'high', 'low', 'low', 'low', 'low', 'high', 'low', 'low', 'low', 'low', 'low', 'low', 'low', 'low', 'low', 'low', 'low', 'low', 'low', 'low', 'low', 'high', 'low', 'low', 'low', 'low', 'low', 'low', 'low', 'low', 'low', 'low', 'low', 'high', 'low', 'high', 'high', 'low', 'low', 'high', 'low', 'low', 'low', 'low', 'low', 'low', 'low', 'low', 'high', 'low', 'low', 'low', 'high', 'low', 'low', 'low', 'low', 'low', 'low', 'low', 'high', 'low', 'low', 'low', 'high', 'low', 'high', 'low', 'high', 'low', 'low', 'low', 'low', 'high', 'high', 'low', 'low', 'low', 'low', 'low', 'low', 'low', 'low', 'low', 'high', 'low', 'low', 'low', 'low', 'low', 'high', 'high', 'low', 'low', 'high', 'low', 'low', 'low', 'low', 'low', 'low', 'high', 'low', 'low', 'high', 'high', 'low', 'low', 'low', 'low', 'low', 'low', 'low', 'low', 'low', 'high', 'low', 'low', 'low', 'low', 'high', 'high', 'low', 'low', 'low', 'high', 'low', 'low', 'low', 'low', 'low', 'low', 'low', 'low', 'low', 'low', 'high', 'low', 'low', 'low', 'low', 'low', 'low', 'low', 'low', 'low', 'low', 'low', 'low', 'low', 'low', 'low', 'low', 'low', 'high', 'low', 'low', 'low', 'low', 'low', 'low', 'low', 'high', 'low', 'low', 'low', 'low', 'low', 'low', 'low', 'low', 'low', 'low', 'low', 'low', 'low', 'low', 'low', 'low', 'high', 'low', 'high', 'low', 'low', 'high', 'low', 'low', 'high', 'low', 'low', 'low', 'low', 'low', 'low', 'low', 'high', 'low', 'low', 'high', 'high', 'low', 'high', 'low', 'high', 'low', 'low', 'low', 'low', 'low', 'low', 'low', 'low', 'high', 'high', 'low', 'low', 'low', 'high', 'high', 'high', 'low', 'low', 'low', 'high', 'low', 'low', 'low', 'high', 'low', 'low', 'high', 'low', 'high', 'low', 'high', 'low', 'low', 'high', 'high', 'low', 'high', 'high', 'low', 'low', 'low', 'high', 'high', 'low', 'low', 'high', 'low', 'low', 'high', 'low', 'low', 'low', 'high', 'low', 'low', 'high', 'low', 'low', 'low', 'high', 'low', 'low', 'low', 'low', 'low', 'low', 'low', 'low', 'low', 'high', 'low', 'low', 'low', 'low', 'low', 'high', 'low', 'high', 'low', 'low', 'high', 'high', 'low', 'low', 'low', 'low', 'low', 'high', 'low', 'low', 'low', 'low', 'high', 'high', 'low', 'low', 'low', 'low', 'low', 'low', 'low', 'low', 'low', 'low', 'low', 'low', 'low', 'high', 'high', 'low', 'low', 'low', 'high', 'low', 'low', 'low', 'low', 'low', 'low', 'low', 'high', 'low', 'high', 'low', 'low', 'low', 'low', 'low', 'low', 'low', 'low', 'low', 'low', 'low', 'low', 'low', 'high', 'low', 'low', 'low', 'high', 'low', 'low', 'low', 'low', 'low', 'low', 'low', 'low', 'low', 'high', 'low', 'low', 'low', 'low', 'low', 'low', 'low', 'low', 'low', 'high', 'low', 'high', 'low', 'low', 'high', 'low', 'low', 'low', 'low', 'low', 'low', 'low', 'low', 'low', 'low', 'low', 'high', 'high', 'low', 'low', 'low', 'low', 'low', 'low', 'low', 'high', 'low', 'low', 'low', 'high', 'high', 'low', 'low', 'low', 'low', 'low', 'high', 'low', 'low', 'low', 'low', 'low', 'low', 'low', 'low', 'low', 'low', 'low', 'low', 'high', 'high', 'low', 'low', 'low', 'low', 'low', 'low', 'low', 'low', 'low', 'low', 'low', 'low', 'low', 'low', 'low', 'low', 'low', 'low', 'high', 'high', 'low', 'low', 'low', 'low', 'high', 'low', 'low', 'low', 'low', 'low', 'low', 'high', 'low', 'low', 'low', 'low', 'low', 'low', 'high', 'low', 'low', 'low', 'high', 'low', 'high', 'low', 'low', 'low', 'low', 'low', 'high', 'high', 'low', 'low', 'low', 'low', 'low', 'low', 'low', 'low', 'low', 'high', 'low', 'low', 'low', 'high', 'low', 'high', 'low', 'low', 'high', 'high', 'low', 'low', 'low', 'low', 'low', 'low', 'low', 'low', 'low', 'low', 'low', 'low', 'low', 'high', 'low', 'low', 'low', 'low', 'low', 'low', 'high', 'low', 'high', 'low', 'low', 'low', 'low', 'low', 'low', 'low', 'low', 'high', 'low', 'high', 'low', 'low', 'low', 'low', 'low', 'low', 'low', 'high', 'low', 'low', 'low', 'high', 'low', 'low', 'low', 'high', 'low', 'low', 'high', 'low', 'low', 'low', 'low', 'low', 'low', 'low', 'low', 'low', 'high', 'low', 'low', 'low', 'low', 'low', 'high', 'high', 'low', 'low', 'low', 'high', 'low', 'low', 'high', 'high', 'low', 'high', 'high', 'low', 'high', 'low', 'low', 'low', 'high', 'low', 'high', 'high', 'low', 'low', 'low', 'low', 'high', 'high', 'low', 'low', 'low', 'low', 'low', 'low', 'low', 'low', 'low', 'low', 'low', 'high', 'low', 'low', 'low', 'low', 'low', 'low', 'low', 'low', 'low', 'low', 'low', 'low', 'low', 'high', 'low', 'low', 'low', 'low', 'low', 'low', 'low', 'low', 'low', 'low', 'high', 'low', 'high', 'low', 'low', 'low', 'low', 'low', 'high', 'low', 'low', 'low', 'low', 'low', 'low', 'high', 'high', 'low', 'low', 'low', 'low', 'low', 'low', 'low', 'low', 'low', 'low', 'low', 'low', 'low', 'low', 'low', 'low', 'low', 'low', 'low', 'low', 'high', 'low', 'low', 'low', 'low', 'low', 'low', 'low', 'low', 'low', 'low', 'low', 'low', 'low', 'high', 'low', 'low', 'low', 'low', 'low', 'low', 'low', 'low', 'low', 'low', 'low', 'low', 'low', 'low', 'low', 'high', 'low', 'low', 'low', 'low', 'low', 'low', 'low', 'low', 'low', 'low', 'low', 'low', 'low', 'low', 'low', 'low', 'low', 'low', 'high', 'low', 'low', 'low', 'low', 'low', 'low', 'low', 'low', 'low', 'low', 'low', 'low', 'low', 'low', 'low', 'low', 'low', 'low', 'low', 'high', 'low', 'low', 'low', 'low', 'low', 'low', 'high', 'low', 'low', 'low', 'low', 'high', 'low', 'high', 'low', 'low', 'low', 'low', 'high', 'low', 'low', 'high', 'low', 'low', 'high', 'low', 'low', 'low', 'low', 'high', 'low', 'low', 'low', 'high', 'low', 'low', 'low', 'high', 'low', 'low', 'low', 'low', 'high', 'low', 'low', 'low', 'low', 'high', 'high', 'low', 'low', 'low', 'low', 'low', 'low', 'low', 'low', 'low', 'low', 'high', 'high', 'low', 'low', 'low', 'low', 'low', 'low', 'low', 'low', 'low', 'low', 'high', 'low', 'low', 'low', 'low', 'low', 'low', 'low', 'high', 'low', 'high', 'low', 'low', 'low', 'low', 'high', 'low', 'low', 'low', 'low', 'low', 'low', 'low', 'high', 'low', 'high', 'low', 'low', 'high', 'low', 'high', 'high', 'low', 'high', 'low', 'low', 'low', 'low', 'high', 'low', 'low', 'low', 'low', 'high', 'low', 'low', 'low', 'low', 'low', 'low', 'high', 'low', 'low', 'low', 'low', 'low', 'low', 'low', 'low', 'low', 'low', 'low', 'low', 'low', 'low', 'low', 'low', 'low', 'high', 'low', 'low', 'low', 'low', 'low', 'high', 'low', 'high', 'low', 'low', 'high', 'low', 'low', 'low', 'low', 'low', 'low', 'low', 'low', 'low', 'low', 'low', 'low', 'low', 'high', 'high', 'low', 'low', 'low', 'high', 'low', 'low', 'high', 'high', 'low', 'high', 'high', 'low', 'low', 'high', 'low', 'low', 'high', 'low', 'low', 'high', 'high', 'low', 'low', 'low', 'low', 'high', 'low', 'low', 'low', 'low', 'low', 'low', 'low', 'low', 'low', 'low', 'high', 'low', 'low', 'low', 'low', 'low', 'low', 'low', 'low', 'low', 'low', 'low', 'low', 'low', 'low', 'high', 'low', 'low', 'low', 'low', 'low', 'high', 'low', 'low', 'low', 'low', 'low', 'high', 'low', 'low', 'low', 'low', 'low', 'low', 'low', 'low', 'low', 'low', 'low', 'low', 'high', 'high', 'high', 'low', 'low', 'low', 'low', 'low', 'low', 'low', 'low', 'low', 'low', 'low', 'low', 'low', 'low', 'low', 'low', 'low', 'low', 'high', 'high', 'low', 'low', 'low', 'low', 'low', 'low', 'low', 'low', 'low', 'low', 'low', 'low', 'low', 'low', 'low', 'high', 'low', 'low', 'low', 'low', 'low', 'low', 'low', 'low', 'low', 'low', 'low', 'low', 'low', 'low', 'low', 'low', 'low', 'low', 'low', 'low', 'low', 'low', 'low', 'low', 'low', 'low', 'low', 'low', 'low', 'low', 'low', 'low', 'low', 'low', 'low', 'low', 'low', 'low', 'low', 'low', 'low', 'low', 'low', 'low', 'low', 'low', 'low', 'high', 'low', 'low', 'low', 'low', 'low', 'low', 'low', 'high', 'high', 'low', 'low', 'low', 'high', 'low', 'low', 'high', 'low', 'low', 'low', 'low', 'low', 'high', 'low', 'low', 'high', 'low', 'low', 'low', 'low', 'low', 'low', 'low', 'low', 'high', 'low', 'high', 'low', 'low', 'high', 'low', 'low', 'low', 'high', 'low', 'high', 'low', 'low', 'low', 'low', 'low', 'low', 'high', 'low', 'low', 'low', 'low', 'low', 'low', 'low', 'low', 'high', 'high', 'low', 'low', 'low', 'low', 'low', 'low', 'low', 'low', 'low', 'high', 'low', 'low', 'high', 'low', 'high', 'low', 'low', 'low', 'low', 'low', 'high', 'low', 'low', 'low', 'low', 'low', 'low', 'low', 'low', 'low', 'low', 'high', 'low', 'low', 'high', 'low', 'low', 'low', 'low', 'low', 'low', 'low', 'high', 'low', 'low', 'low', 'low', 'high', 'low', 'low', 'low', 'low', 'high', 'low', 'low', 'low', 'low', 'low', 'low', 'low', 'low', 'low', 'low', 'low', 'low', 'low', 'low', 'low', 'low', 'low', 'low', 'high', 'low', 'low', 'low', 'low', 'low', 'low', 'high', 'low', 'low', 'low', 'low', 'low', 'low', 'low', 'low', 'low', 'low', 'low', 'low', 'low', 'low', 'low', 'high', 'high', 'low', 'low', 'high', 'low', 'low', 'low', 'high', 'high', 'low', 'high', 'high', 'low', 'high', 'low', 'low', 'high', 'low', 'low', 'high', 'high', 'low', 'low', 'low', 'high', 'low', 'low', 'low', 'low', 'low', 'low', 'low', 'high', 'low', 'low', 'low', 'low', 'low', 'low', 'low', 'low', 'low', 'low', 'low', 'low', 'low', 'low', 'low', 'high', 'low', 'low', 'low', 'low', 'low', 'low', 'low', 'low', 'low', 'low', 'low', 'low', 'low', 'low', 'low', 'low', 'low', 'low', 'low', 'low', 'low', 'low', 'low', 'high', 'high', 'high', 'low', 'low', 'low', 'high', 'low', 'low', 'low', 'low', 'low', 'low', 'low', 'high', 'low', 'low', 'low', 'low', 'low', 'low', 'low', 'low', 'low', 'high', 'low', 'low', 'low', 'low', 'low', 'low', 'low', 'low', 'low', 'low', 'low', 'low', 'high', 'low', 'low', 'low', 'low', 'low', 'low', 'low', 'low', 'low', 'low', 'low', 'low', 'low', 'low', 'low', 'low', 'low', 'low', 'low', 'low', 'low', 'low', 'low', 'low', 'low', 'low', 'low', 'low', 'low', 'low', 'low', 'low', 'low', 'low', 'low', 'high', 'high', 'low', 'low', 'low', 'low', 'low', 'low', 'low', 'low', 'low', 'low', 'low', 'low', 'low', 'low', 'high', 'low', 'low', 'low', 'low', 'low', 'low', 'low', 'low', 'low', 'high', 'low', 'low', 'low', 'low', 'low', 'high', 'low', 'low', 'high', 'low', 'low', 'low', 'high', 'low', 'low', 'low', 'low', 'low', 'low', 'high', 'low', 'high', 'low', 'low', 'low', 'low', 'low', 'low', 'high', 'low', 'low', 'low', 'low', 'low', 'low', 'low', 'low', 'high', 'high', 'high', 'low', 'low', 'low', 'high', 'high', 'low', 'low', 'low', 'low', 'high', 'low', 'low', 'low', 'high', 'low', 'high', 'low', 'high', 'low', 'low', 'low', 'low', 'high', 'low', 'low', 'low', 'low', 'low', 'low', 'low', 'low', 'low', 'low', 'high', 'low', 'high', 'high', 'low', 'low', 'low', 'low', 'low', 'low', 'low', 'low', 'high', 'low', 'low', 'low', 'low', 'low', 'low', 'low', 'low', 'low', 'high', 'low', 'low', 'low', 'low', 'low', 'low', 'low', 'low', 'low', 'high', 'low', 'low', 'low', 'low', 'low', 'low', 'high', 'low', 'low', 'low', 'low', 'low', 'low', 'high', 'low', 'low', 'low', 'low', 'low', 'low', 'low', 'low', 'low', 'low', 'low', 'high', 'low', 'high', 'low', 'low', 'low', 'low', 'high', 'low', 'high', 'low', 'low', 'high', 'high', 'low', 'low', 'high', 'low', 'low', 'high', 'high', 'low', 'low', 'low', 'high', 'low', 'low', 'low', 'low', 'low', 'low', 'high', 'low', 'low', 'low', 'low', 'low', 'low', 'low', 'low', 'low', 'low', 'low', 'low', 'low', 'low', 'low', 'high', 'low', 'low', 'low', 'low', 'low', 'high', 'low', 'low', 'low', 'low', 'low', 'high', 'low', 'low', 'low', 'low', 'low', 'low', 'low', 'high', 'high', 'high', 'low', 'low', 'low', 'low', 'low', 'low', 'low', 'low', 'low', 'low', 'low', 'low', 'low', 'low', 'low', 'low', 'low', 'low', 'low', 'high', 'low', 'high', 'low', 'low', 'low', 'low', 'low', 'low', 'low', 'low', 'low', 'low', 'low', 'high', 'low', 'low', 'low', 'low', 'low', 'low', 'low', 'high', 'low', 'low', 'low', 'low', 'low', 'high', 'low', 'low', 'low', 'low', 'low', 'low', 'high', 'low', 'low', 'low', 'low', 'low', 'low', 'low', 'low', 'low', 'low', 'low', 'low', 'low', 'high']\n"
     ]
    }
   ],
   "source": [
    "## load data into a MyPyTable\n",
    "nba_data = mypytable.MyPyTable()\n",
    "nba_data.load_from_file(\"nba_ratings.csv\")\n",
    "before_len = len(nba_data.data)\n",
    "\n",
    "\n",
    "# clean table by removing players with 0% 3 point percentage or FG percentage\n",
    "\n",
    "nba_data.drop_rows_with_zero_in_col([\"3P%\", \"FG%\"])\n",
    "after_len = len(nba_data.data)\n",
    "print(before_len - after_len, \"rows were removed during cleaning\")\n",
    "\n",
    "# remove NAME, SEASON, and TEAM cols (too specific)\n",
    "player_names = nba_data.pop_column(\"PLAYER\") \n",
    "nba_data.pop_column(\"TEAM\")\n",
    "nba_data.pop_column(\"SEASON\")\n",
    "nba_data.pop_column(\"\")\n",
    "\n",
    "## TODO create a plot for distribution\n",
    "# get ratings (y) \n",
    "ratings = nba_data.pop_column(\"rankings\")\n",
    "ratings = [myutils.ratings_discretizer(x) for x in ratings]\n",
    "print(ratings)\n",
    "\n",
    "\n",
    "simple_dataset = nba_data.get_subtable([\"AGE\", \"W\", \"L\", \"MIN\", \"PTS\"])\n",
    "\n"
   ]
  },
  {
   "cell_type": "markdown",
   "metadata": {},
   "source": [
    "## Naive Bayes Classification\n",
    "Does the simple dataset classify better than the dataset with all of the attributes?\n",
    "\n",
    "\n",
    "Simple Dataset: (AGE, WINS, LOSSES, MINS, PTS)\n"
   ]
  },
  {
   "cell_type": "code",
   "execution_count": 22,
   "metadata": {},
   "outputs": [],
   "source": [
    "## get train / test folds (full and simple datasets)\n",
    "full_train_folds, full_test_folds = myevaluation.stratified_kfold_cross_validation(nba_data.data, ratings, n_splits=10)\n",
    "simple_train_folds, simple_test_folds = myevaluation.stratified_kfold_cross_validation(simple_dataset.data, ratings, n_splits=10)\n",
    "\n",
    "## get scores\n",
    "full_acc, full_err, full_pres, full_recall, full_f1, full_matrix = \\\n",
    "  myutils.get_scores_from_folds(nba_data.data, ratings, full_train_folds, full_test_folds, myclassifiers.MyDummyClassifier())\n",
    "\n",
    "simple_acc, simple_err, simple_pres, simple_recall, simple_f1, simple_matrix = \\\n",
    "  myutils.get_scores_from_folds(simple_dataset.data, ratings, simple_train_folds, simple_test_folds, myclassifiers.MyNaiveBayesClassifier())\n"
   ]
  },
  {
   "cell_type": "code",
   "execution_count": 30,
   "metadata": {},
   "outputs": [
    {
     "name": "stdout",
     "output_type": "stream",
     "text": [
      "Dataset           Accuracy    Error    Precision    Recall    F1 score\n",
      "--------------  ----------  -------  -----------  --------  ----------\n",
      "Full dataset          0.83     0.17            0         0           0\n",
      "Simple dataset        0.83     0.17            0         0           0\n"
     ]
    }
   ],
   "source": [
    "scores_table = mypytable.MyPyTable()\n",
    "scores_table.column_names = [\"Dataset\", \"Accuracy\", \"Error\", \"Precision\", \"Recall\", \"F1 score\"]\n",
    "scores_table.data = []\n",
    "scores_table.data.append([\"Full dataset\", full_acc, full_err, full_pres, full_recall, full_f1])\n",
    "scores_table.data.append([\"Simple dataset\", simple_acc, simple_err, simple_pres, simple_recall, simple_f1])\n",
    "\n",
    "scores_table.print_data()\n",
    "\n"
   ]
  }
 ],
 "metadata": {
  "interpreter": {
   "hash": "d4d1e4263499bec80672ea0156c357c1ee493ec2b1c70f0acce89fc37c4a6abe"
  },
  "kernelspec": {
   "display_name": "Python 3.9.7 ('base')",
   "language": "python",
   "name": "python3"
  },
  "language_info": {
   "codemirror_mode": {
    "name": "ipython",
    "version": 3
   },
   "file_extension": ".py",
   "mimetype": "text/x-python",
   "name": "python",
   "nbconvert_exporter": "python",
   "pygments_lexer": "ipython3",
   "version": "3.9.7"
  },
  "orig_nbformat": 4
 },
 "nbformat": 4,
 "nbformat_minor": 2
}
