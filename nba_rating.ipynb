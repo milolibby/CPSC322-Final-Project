{
 "cells": [
  {
   "cell_type": "code",
   "execution_count": 113,
   "metadata": {},
   "outputs": [
    {
     "data": {
      "text/plain": [
       "<module 'mysklearn.myclassifiers' from '/home/CPSC322-Final-Project/mysklearn/myclassifiers.py'>"
      ]
     },
     "execution_count": 113,
     "metadata": {},
     "output_type": "execute_result"
    }
   ],
   "source": [
    "import importlib\n",
    "\n",
    "import mysklearn.mypytable as mypytable\n",
    "import mysklearn.myutils as myutils\n",
    "import mysklearn.myevaluation as myevaluation\n",
    "import mysklearn.myclassifiers as myclassifiers\n",
    "from tabulate import tabulate\n",
    "\n",
    "importlib.reload(myutils)\n",
    "importlib.reload(mypytable)\n",
    "importlib.reload(myevaluation)\n",
    "importlib.reload(myclassifiers)"
   ]
  },
  {
   "cell_type": "markdown",
   "metadata": {},
   "source": [
    "# **NBA Ratings Classifier EDA**\n",
    "\n",
    "In this EDA we will be looking at a datasets which contains instances of NBA players with their stats and NBA 2K (videogame) ratings\n",
    "\n",
    "\n",
    "We will use the attributes of this dataset to classify instances by their card type\n",
    ">In NBA 2K, each player is given a card of a two general types based directly on their rating\n",
    ">* If a player has a rating of 79 and below they are given a **basic** card represented by a Gold, Silver, or Bronze theme\n",
    ">* If a player has a rating 80 or above they are given a **special** card represented by a Emerald, Sapphire, Ruby, Amythest, and Diamond themes"
   ]
  },
  {
   "cell_type": "markdown",
   "metadata": {},
   "source": [
    "><img src=\"images/goldcard.png\" width=\"200\"> <img src=\"images/drose.png\" width=\"200\"> <img src=\"images/chrisPaul.png\" width=\"200\"><br>\n",
    ">* The first card above is an example of a **basic** card (79 rated \"gold\")<br>\n",
    ">* The following two cards are both **special** cards (80 rated \"emerald\" and 92 rated \"amythest\")   "
   ]
  },
  {
   "cell_type": "markdown",
   "metadata": {},
   "source": [
    "## Data Preperation\n",
    "### Dataset: nba_ratings.csv (https://www.kaggle.com/datasets/willyiamyu/nba-2k-ratings-with-real-nba-stats?select=nba_rankings_2014-2020.csv)\n",
    "> We will immediately remote several attributes from the dataset that will are either too specific (ex. player name, team name, season) \n",
    "or redundant (ex. offensive rebounds, defensive rebounds, 3pt attempts, FG attempts)\n",
    "\n",
    ">Also, to create a more equal distribution of class labels, we are are only interested in the basic type cards that are over 74 rated. All players with ratings less than 75 will be removed \n",
    "\n",
    "> The dataset that we will be using will consist of the attributes below. We will derive all subsets of data from this dataset.\n",
    "* AGE (Age)\n",
    "* MIN (minutes played)\n",
    "* W% (W / GP)\n",
    "* PTS (points per game)\n",
    "* FG % (field goal percentage)\n",
    "* 3PM (3 pt attemps)\n",
    "* FT% (free throw percentage)\n",
    "* REB (rebounds)\n",
    "\n",
    "> These attributes will be used to classify the \"ranking\" (NBA 2K Ratings) of each instance (player)\n"
   ]
  },
  {
   "cell_type": "code",
   "execution_count": 114,
   "metadata": {},
   "outputs": [
    {
     "name": "stdout",
     "output_type": "stream",
     "text": [
      "1482 / 2412 rows were removed during cleaning\n",
      "Sample instances of discretized data\n",
      "PLAYER            AGE    MIN       W%       PTS     FG%          3PM          FT%     REB             card type\n",
      "----------------  -----  --------  -------  ------  -----------  -----------  ------  --------------  -----------\n",
      "Marc Gasol        old    moderate  high     bottom  inefficient  low volume   poor    average volume  basic\n",
      "JR Smith          old    moderate  average  mid     inefficient  high volume  poor    low volume      basic\n",
      "Tim Hardaway Jr.  young  moderate  average  mid     inefficient  high volume  decent  low volume      basic\n",
      "DeMarcus Cousins  young  high      low      top     efficient    low volume   decent  high volume     special\n",
      "Mo Bamba          young  low       low      bottom  efficient    low volume   poor    average volume  basic\n",
      "Rudy Gay          old    moderate  low      mid     efficient    low volume   decent  average volume  special\n",
      "DeMarcus Cousins  young  moderate  high     mid     efficient    low volume   poor    average volume  special\n",
      "Nikola Mirotic    young  low       average  bottom  inefficient  low volume   decent  average volume  basic\n",
      "Deron Williams    old    moderate  low      mid     inefficient  low volume   decent  low volume      basic\n",
      "Paul Pierce       old    moderate  average  bottom  inefficient  low volume   decent  low volume      basic\n"
     ]
    }
   ],
   "source": [
    "import numpy as np\n",
    "\n",
    "\n",
    "## load data into a MyPyTable\n",
    "nba_data = mypytable.MyPyTable()\n",
    "nba_data.load_from_file(\"nba_ratings.csv\")\n",
    "before_len = len(nba_data.data)\n",
    "\n",
    "# clean table by removing players with 0% 3 point percentage or FG percentage or below 73 rated\n",
    "\n",
    "rows_to_drop = []\n",
    "for i, row in enumerate(nba_data.data):\n",
    "  if nba_data.data[i][-1] < 76:\n",
    "    rows_to_drop.append(i)\n",
    "nba_data.drop_rows(rows_to_drop)\n",
    "\n",
    "nba_data.drop_rows_with_zero_in_col([\"3P%\", \"FG%\"])\n",
    "after_len = len(nba_data.data)\n",
    "print(before_len - after_len, \"/\", before_len, \"rows were removed during cleaning\")\n",
    "\n",
    "\n",
    "# get player names col as keys for the instances\n",
    "#player_names = nba_data.pop_column(\"PLAYER\") \n",
    "\n",
    "\n",
    "## TODO create a plot for distribution\n",
    "# get ratings col (y) \n",
    "ratings = nba_data.get_column(\"rankings\")\n",
    "ratings = [myutils.ratings_discretizer(x) for x in ratings]\n",
    "\n",
    "nba_data = nba_data.get_subtable([\"PLAYER\", \"AGE\", \"MIN\", \"W\", \"GP\", \"PTS\", \"FG%\", \"3PM\", \"FT%\", \"REB\"])\n",
    "\n",
    "# change GP and W attributes to W% (win percentage) \n",
    "gp = nba_data.pop_column(\"GP\")\n",
    "\n",
    "win_index = nba_data.column_names.index(\"W\")\n",
    "nba_data.column_names[win_index] = \"W%\"\n",
    "\n",
    "for i, row in enumerate(nba_data.data):\n",
    "  nba_data.data[i][win_index] = round(nba_data.data[i][win_index] / gp[i], 2)\n",
    "\n",
    "\n",
    "\n",
    "nba_data.discretize_col([\"AGE\"], myutils.age_discretizer)\n",
    "nba_data.discretize_col([\"FT%\"], myutils.free_throw_discretizer)\n",
    "nba_data.discretize_col([\"MIN\"], myutils.mins_played_discretizer)\n",
    "nba_data.discretize_col([\"PTS\"], myutils.pts_discretizer)\n",
    "nba_data.discretize_col([\"3PM\"], myutils.threePTRS_made_discretizer)\n",
    "nba_data.discretize_col([\"REB\"], myutils.reb_discretizer)\n",
    "nba_data.discretize_col([\"FG%\"], myutils.fg_discretizer)\n",
    "nba_data.discretize_col([\"W%\"], myutils.win_percent_discretizer)\n",
    "\n",
    "nba_data.column_names.append(\"card type\")\n",
    "nba_data.data = [nba_data.data[i] + [ratings[i]] for i in range(len(ratings)) ] \n",
    "\n",
    "\n",
    "\n",
    "\n",
    "sample_table = []\n",
    "for i in range(10):\n",
    "  sample_table.append(nba_data.data[np.random.randint(0, len(nba_data.data))])\n",
    "\n",
    "sample_table = mypytable.MyPyTable(nba_data.column_names, sample_table)\n",
    "print(\"Sample instances of discretized data\")\n",
    "sample_table.print_data()\n",
    "\n",
    "# card_types = nba_data.pop_column(\"card type\")\n"
   ]
  },
  {
   "cell_type": "markdown",
   "metadata": {},
   "source": [
    "# **Visual Representation of Dataset**"
   ]
  },
  {
   "cell_type": "markdown",
   "metadata": {},
   "source": [
    "### Distribution of Class labels (special and basic)"
   ]
  },
  {
   "cell_type": "code",
   "execution_count": 115,
   "metadata": {},
   "outputs": [
    {
     "data": {
      "image/png": "[encoded data removed]",
      "text/plain": [
       "<Figure size 432x288 with 1 Axes>"
      ]
     },
     "metadata": {},
     "output_type": "display_data"
    }
   ],
   "source": [
    "from mysklearn import Plot_Utils\n",
    "\n",
    "special = 0\n",
    "basic = 0\n",
    "for rating in ratings:\n",
    "  if rating == \"special\":\n",
    "    special += 1\n",
    "  else:\n",
    "    basic += 1\n",
    "\n",
    "Plot_Utils.create_pie_chart([special, basic], [\"special\", \"basic\"])\n",
    "\n"
   ]
  },
  {
   "cell_type": "markdown",
   "metadata": {},
   "source": [
    "## Minutes Played\n",
    "\n",
    "In the NBA, all of the best players play a high amount of minutes. Therefore, I believe this attribute is going to be one of the stronger attributes in terms of helping predict the card type of a player correctly.<br><br>\n",
    "\n",
    "Here is a bar chart showing the distrubtion of players in the data set based on there minutes played each game"
   ]
  },
  {
   "cell_type": "markdown",
   "metadata": {},
   "source": [
    "We almost have an even distribution of class labels (there are slightly more players with a basic card than a special card)"
   ]
  },
  {
   "cell_type": "code",
   "execution_count": 116,
   "metadata": {},
   "outputs": [
    {
     "data": {
      "image/png": "[encoded data removed]",
      "text/plain": [
       "<Figure size 432x288 with 1 Axes>"
      ]
     },
     "metadata": {
      "needs_background": "light"
     },
     "output_type": "display_data"
    }
   ],
   "source": [
    "mins = nba_data.get_column(\"MIN\")\n",
    "Plot_Utils.create_bar_chart(mins, X_label=\"Minutes Played\", Y_label=\"Number of players\")"
   ]
  },
  {
   "cell_type": "markdown",
   "metadata": {},
   "source": [
    "As you can see from this bar chart most of the players in the dataset fall under the moderate minutes group. <br>Only a small percent of players play high minutes (>34 minutes per game)\n",
    "\n",
    "Most of the players that fall under the high minutes catagory are also classified as a special card because they do so much for their team\n",
    "\n",
    "This will be illustrated with the pie chart below showing the distribution of the class labels, when only looking at players with high minutes played"
   ]
  },
  {
   "cell_type": "code",
   "execution_count": 117,
   "metadata": {},
   "outputs": [
    {
     "data": {
      "image/png": "[encoded data removed]",
      "text/plain": [
       "<Figure size 432x288 with 1 Axes>"
      ]
     },
     "metadata": {},
     "output_type": "display_data"
    }
   ],
   "source": [
    "importlib.reload(Plot_Utils)\n",
    "mins_with_label = [[mins[i]] + [ratings[i]] for i in range(len(mins))]\n",
    "high_mins_only = [row for row in mins_with_label if row[0] == \"high\"]\n",
    "\n",
    "values, cts = myutils.get_frequencies(high_mins_only)\n",
    "Plot_Utils.create_pie_chart(cts, values, \"Card type distribution with players that play high mins\")"
   ]
  },
  {
   "cell_type": "markdown",
   "metadata": {},
   "source": [
    "Almost all players that fall under the high minutes played category for the \"MIN\" attribute are **special** card types. Our classifers can use this pattern to hopefully classifer players efficiently"
   ]
  },
  {
   "cell_type": "markdown",
   "metadata": {},
   "source": [
    "# **Classifier Evaluation**\n",
    "\n",
    "We are going to run the data set through these three classifiers and analyze there accuracy and error scores to find which one is the most predictive:\n",
    "\n",
    "1. Dummy Classifier\n",
    "1. Decision Tree Classifer\n",
    "1. Random Forrest Classifer\n",
    "\n",
    "* We will run both the main data set and a smaller subset of chosen attributes with the goal of raising the accuracy score.\n",
    "* For the dummy classifer, both datasets will have the same accuracy\n",
    "\n",
    "Smaller Dataset: (WINS,MINS, PTS)"
   ]
  },
  {
   "cell_type": "markdown",
   "metadata": {},
   "source": [
    "## Dummy Classification\n",
    "Since the dummy classifer always predicts the label with the highest frequency, this will give us a baseline of accuracy scores that we will try to improve on"
   ]
  },
  {
   "cell_type": "code",
   "execution_count": 118,
   "metadata": {},
   "outputs": [],
   "source": [
    "\n",
    "simple_dataset = nba_data.get_subtable([\"W%\", \"MIN\", \"PTS\"])\n",
    "\n",
    "## get train / test folds (full and simple datasets)\n",
    "full_train_folds, full_test_folds = myevaluation.stratified_kfold_cross_validation(nba_data.data, ratings, n_splits=10)\n",
    "simple_train_folds, simple_test_folds = myevaluation.stratified_kfold_cross_validation(simple_dataset.data, ratings, n_splits=10)\n",
    "\n",
    "## get scores\n",
    "full_acc, full_err, full_pres, full_recall, full_f1, full_matrix = \\\n",
    "  myutils.get_scores_from_folds(nba_data.data, ratings, full_train_folds, full_test_folds, myclassifiers.MyDummyClassifier())\n",
    "\n",
    "simple_acc, simple_err, simple_pres, simple_recall, simple_f1, simple_matrix = \\\n",
    "  myutils.get_scores_from_folds(simple_dataset.data, ratings, simple_train_folds, simple_test_folds, myclassifiers.MyDummyClassifier())\n"
   ]
  },
  {
   "cell_type": "code",
   "execution_count": 119,
   "metadata": {},
   "outputs": [
    {
     "name": "stdout",
     "output_type": "stream",
     "text": [
      "Dummy Classification Scores\n",
      "Dataset           Accuracy    Error\n",
      "--------------  ----------  -------\n",
      "Full dataset          0.56     0.44\n",
      "Simple dataset        0.56     0.44\n"
     ]
    }
   ],
   "source": [
    "scores_table = mypytable.MyPyTable()\n",
    "scores_table.column_names = [\"Dataset\", \"Accuracy\", \"Error\"]\n",
    "scores_table.data = []\n",
    "scores_table.data.append([\"Full dataset\", full_acc, full_err])\n",
    "scores_table.data.append([\"Simple dataset\", simple_acc, simple_err])\n",
    "\n",
    "print(\"Dummy Classification Scores\")\n",
    "scores_table.print_data()\n"
   ]
  },
  {
   "cell_type": "markdown",
   "metadata": {},
   "source": [
    "As predicted, the Dummy classifier simply picks the label that is in the dataset the most. Since the majority (56%) of the data are **basic** cards, the classifer with always classify a player as **basic**"
   ]
  },
  {
   "cell_type": "markdown",
   "metadata": {},
   "source": [
    "## Decision Tree Classification\n",
    "* For the decision tree classification we are going to use the smaller data set because the main dataset has a lot of attributes which creates an insanely large number of decision rules\n",
    "\n",
    "* We are also going to run a subset that only includes the **MIN** column of the dataset to see how predictive the the minutes attribute is\n"
   ]
  },
  {
   "cell_type": "code",
   "execution_count": 120,
   "metadata": {},
   "outputs": [],
   "source": [
    "mins_dataset = [[row] for row in mins]\n",
    "\n",
    "## get train / test folds (full and simple datasets)\n",
    "full_train_folds, full_test_folds = myevaluation.stratified_kfold_cross_validation(mins_dataset, ratings, n_splits=10)\n",
    "simple_train_folds, simple_test_folds = myevaluation.stratified_kfold_cross_validation(simple_dataset.data, ratings, n_splits=10)\n",
    "\n",
    "## get scores\n",
    "full_acc, full_err, full_pres, full_recall, full_f1, full_matrix = \\\n",
    "  myutils.get_scores_from_folds(mins_dataset, ratings, full_train_folds, full_test_folds, myclassifiers.MyDecisionTreeClassifier(10))\n",
    "\n",
    "simple_acc, simple_err, simple_pres, simple_recall, simple_f1, simple_matrix = \\\n",
    "  myutils.get_scores_from_folds(simple_dataset.data, ratings, simple_train_folds, simple_test_folds, myclassifiers.MyDecisionTreeClassifier(10))\n",
    "\n",
    "rfc = myclassifiers.MyNaiveBayesClassifier()"
   ]
  },
  {
   "cell_type": "code",
   "execution_count": 121,
   "metadata": {},
   "outputs": [
    {
     "name": "stdout",
     "output_type": "stream",
     "text": [
      "Decision Tree Classification Scores\n",
      "Dataset                             Accuracy    Error\n",
      "--------------------------------  ----------  -------\n",
      "Simple dataset (MINS, PTS, WIN%)        0.79     0.21\n",
      "Minutes Only                            0.69     0.31\n"
     ]
    }
   ],
   "source": [
    "scores_table = mypytable.MyPyTable()\n",
    "scores_table.column_names = [\"Dataset\", \"Accuracy\", \"Error\"]\n",
    "scores_table.data = []\n",
    "\n",
    "scores_table.data.append([\"Simple dataset (MINS, PTS, WIN%)\", simple_acc, simple_err])\n",
    "scores_table.data.append([\"Minutes Only\", full_acc, full_err])\n",
    "\n",
    "\n",
    "print(\"Decision Tree Classification Scores\")\n",
    "scores_table.print_data()"
   ]
  },
  {
   "cell_type": "markdown",
   "metadata": {},
   "source": [
    "* As you can see with the accuracy scores, the Decision tree was much better than the Dummy Classifer for the simple dataset\n",
    "* Running the classifier with only the minutes played attribute also raised the accuracy score by over 20% proving it is a strong predictive attribute"
   ]
  },
  {
   "cell_type": "markdown",
   "metadata": {},
   "source": [
    "## Random Forest Classification"
   ]
  },
  {
   "cell_type": "code",
   "execution_count": 122,
   "metadata": {},
   "outputs": [],
   "source": [
    "import mysklearn.myrandomforestclassifier as myrfc\n",
    "importlib.reload(myrfc)\n",
    "## get train / test folds (full and simple datasets)\n",
    "simple_train_folds, simple_test_folds = myevaluation.stratified_kfold_cross_validation(simple_dataset.data, ratings, n_splits=10)\n",
    "\n",
    "\n",
    "simple_acc, simple_err, simple_pres, simple_recall, simple_f1, simple_matrix = \\\n",
    "  myutils.get_scores_from_folds(simple_dataset.data, ratings, simple_train_folds, simple_test_folds, myrfc.MyRandomForestClassifier(50, 10, 3))\n",
    "simple_acc = round(simple_acc, 1)\n",
    "simple_err = round(simple_err, 1)\n"
   ]
  },
  {
   "cell_type": "code",
   "execution_count": 123,
   "metadata": {},
   "outputs": [
    {
     "name": "stdout",
     "output_type": "stream",
     "text": [
      "Random Forest Classification Scores\n",
      "Dataset                             Accuracy    Error\n",
      "--------------------------------  ----------  -------\n",
      "Simple dataset (MINS, PTS, WIN%)         0.8      0.2\n"
     ]
    }
   ],
   "source": [
    "scores_table = mypytable.MyPyTable()\n",
    "scores_table.column_names = [\"Dataset\", \"Accuracy\", \"Error\"]\n",
    "scores_table.data = []\n",
    "\n",
    "scores_table.data.append([\"Simple dataset (MINS, PTS, WIN%)\", simple_acc, simple_err])\n",
    "\n",
    "\n",
    "\n",
    "print(\"Random Forest Classification Scores\")\n",
    "scores_table.print_data()"
   ]
  },
  {
   "cell_type": "markdown",
   "metadata": {},
   "source": [
    "Since the Random Forest Classifier has the highest accuracy rating, it is our \"best classifier\" for our data and we will use it to predict our final instance. \n",
    "\n",
    "We will use Zion Williamson as our test instance (the player on the example gold card at the top) to see if Zion deserves a **special** card rather than a **basic** card that he currently has according to our Random Forest Classifier:"
   ]
  },
  {
   "cell_type": "code",
   "execution_count": 124,
   "metadata": {},
   "outputs": [
    {
     "name": "stdout",
     "output_type": "stream",
     "text": [
      "Zion's stats:\n",
      "PLAYER           AGE    MIN       W%       PTS     FG%          3PM          FT%     REB       \n",
      "---------------  -----  --------  -------  ------  -----------  -----------  ------  --------------  -----------\n",
      "Zion Williamson  young  high  average  high    efficient  low volume   decent  high volume\n"
     ]
    }
   ],
   "source": [
    "print(\"Zion's stats:\")\n",
    "print(\"PLAYER           AGE    MIN       W%       PTS     FG%          3PM          FT%     REB       \")\n",
    "print(\"---------------  -----  --------  -------  ------  -----------  -----------  ------  --------------  -----------\")\n",
    "print(\"Zion Williamson  young  high  average  high    efficient  low volume   decent  high volume\")"
   ]
  },
  {
   "cell_type": "code",
   "execution_count": 125,
   "metadata": {},
   "outputs": [],
   "source": [
    "X_sample, X_out, y_sample, y_out = myevaluation.bootstrap_sample(simple_dataset.data, ratings, n_samples=100)\n",
    "\n",
    "\n",
    "rfc.fit(X_sample, y_sample)\n",
    "prediction = rfc.predict([[\"average\", \"high\", \"high\"]])"
   ]
  },
  {
   "cell_type": "markdown",
   "metadata": {},
   "source": [
    "<img src=\"images/goldcard.png\" width=\"200\">"
   ]
  },
  {
   "cell_type": "code",
   "execution_count": 126,
   "metadata": {},
   "outputs": [
    {
     "name": "stdout",
     "output_type": "stream",
     "text": [
      "['special']\n"
     ]
    }
   ],
   "source": [
    "print(prediction)"
   ]
  },
  {
   "cell_type": "markdown",
   "metadata": {},
   "source": [
    "According to our classifier, Zion Williamson should have a  **special** card instead of a **basic** card based on his stats"
   ]
  }
 ],
 "metadata": {
  "interpreter": {
   "hash": "d4d1e4263499bec80672ea0156c357c1ee493ec2b1c70f0acce89fc37c4a6abe"
  },
  "kernelspec": {
   "display_name": "Python 3.9.7 ('base')",
   "language": "python",
   "name": "python3"
  },
  "language_info": {
   "codemirror_mode": {
    "name": "ipython",
    "version": 3
   },
   "file_extension": ".py",
   "mimetype": "text/x-python",
   "name": "python",
   "nbconvert_exporter": "python",
   "pygments_lexer": "ipython3",
   "version": "3.9.7"
  },
  "orig_nbformat": 4
 },
 "nbformat": 4,
 "nbformat_minor": 2
}
