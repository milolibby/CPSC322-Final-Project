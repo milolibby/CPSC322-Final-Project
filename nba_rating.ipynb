{
 "cells": [
  {
   "cell_type": "code",
   "execution_count": 76,
   "metadata": {},
   "outputs": [
    {
     "data": {
      "text/plain": [
       "<module 'mysklearn.myclassifiers' from '/home/CPSC322-Final-Project/mysklearn/myclassifiers.py'>"
      ]
     },
     "execution_count": 76,
     "metadata": {},
     "output_type": "execute_result"
    }
   ],
   "source": [
    "import importlib\n",
    "\n",
    "import mysklearn.mypytable as mypytable\n",
    "import mysklearn.myutils as myutils\n",
    "import mysklearn.myevaluation as myevaluation\n",
    "import mysklearn.myclassifiers as myclassifiers\n",
    "from tabulate import tabulate\n",
    "\n",
    "importlib.reload(myutils)\n",
    "importlib.reload(mypytable)\n",
    "importlib.reload(myevaluation)\n",
    "importlib.reload(myclassifiers)"
   ]
  },
  {
   "cell_type": "markdown",
   "metadata": {},
   "source": [
    "# **NBA Ratings Classifier EDA**\n",
    "\n",
    "In this EDA we will be looking at a datasets which contains instances of NBA players with their stats and NBA 2K (videogame) ratings\n",
    "\n",
    "\n",
    "We will use the attributes of this dataset to classify instances by their card type\n",
    ">In NBA 2K, each player is given a card of a two general types based directly on their rating\n",
    ">* If a player has a rating of 79 and below they are given a **basic** card represented by a Gold, Silver, or Bronze theme\n",
    ">* If a player has a rating 80 or above they are given a **special** card represented by a Emerald, Sapphire, Ruby, Amythest, and Diamond themes"
   ]
  },
  {
   "cell_type": "markdown",
   "metadata": {},
   "source": [
    "><img src=\"images/goldcard.png\" width=\"200\"> <img src=\"images/drose.png\" width=\"200\"> <img src=\"images/chrisPaul.png\" width=\"200\"><br>\n",
    ">* The first card above is an example of a **basic** card (79 rated \"gold\")<br>\n",
    ">* The following two cards are both **special** cards (80 rated \"emerald\" and 92 rated \"amythest\")   "
   ]
  },
  {
   "cell_type": "markdown",
   "metadata": {},
   "source": [
    "## Data Preperation\n",
    "### Dataset: nba_ratings.csv (https://www.kaggle.com/datasets/willyiamyu/nba-2k-ratings-with-real-nba-stats?select=nba_rankings_2014-2020.csv)\n",
    "> We will immediately remote several attributes from the dataset that will are either too specific (ex. player name, team name, season) \n",
    "or redundant (ex. offensive rebounds, defensive rebounds, 3pt attempts, FG attempts)\n",
    "\n",
    ">Also, to create a more equal distribution of class labels, we are are only interested in the basic type cards that are over 74 rated. All players with ratings less than 75 will be removed \n",
    "\n",
    "> The dataset that we will be using will consist of the attributes below. We will derive all subsets of data from this dataset.\n",
    "* AGE (Age)\n",
    "* MIN (minutes played)\n",
    "* W% (W / GP)\n",
    "* PTS (points per game)\n",
    "* FG % (field goal percentage)\n",
    "* 3PM (3 pt attemps)\n",
    "* FT% (free throw percentage)\n",
    "* REB (rebounds)\n",
    "\n",
    "> These attributes will be used to classify the \"ranking\" (NBA 2K Ratings) of each instance (player)\n"
   ]
  },
  {
   "cell_type": "code",
   "execution_count": 80,
   "metadata": {},
   "outputs": [
    {
     "name": "stdout",
     "output_type": "stream",
     "text": [
      "1316 / 2412 rows were removed during cleaning\n",
      "Sample instances of discretized data\n",
      "PLAYER           AGE    MIN       W%       PTS     FG%          3PM          FT%     REB             card type\n",
      "---------------  -----  --------  -------  ------  -----------  -----------  ------  --------------  -----------\n",
      "Kawhi Leonard    young  high      average  top     efficient    low volume   decent  average volume  special\n",
      "Gorgui Dieng     young  moderate  average  bottom  efficient    low volume   decent  average volume  basic\n",
      "Kevin Love       young  high      average  mid     inefficient  high volume  decent  high volume     special\n",
      "Justise Winslow  young  high      low      bottom  inefficient  low volume   poor    average volume  basic\n",
      "Marco Belinelli  old    moderate  low      mid     inefficient  low volume   great   low volume      basic\n",
      "Al Jefferson     old    high      low      mid     efficient    low volume   poor    average volume  special\n",
      "Larry Nance Jr.  young  moderate  low      bottom  efficient    low volume   poor    average volume  basic\n",
      "Michael Beasley  young  moderate  low      bottom  efficient    low volume   poor    low volume      basic\n",
      "Nikola Mirotic   young  moderate  average  mid     inefficient  high volume  decent  average volume  basic\n",
      "Jeff Green       old    moderate  average  bottom  inefficient  low volume   poor    average volume  basic\n"
     ]
    }
   ],
   "source": [
    "import numpy as np\n",
    "\n",
    "\n",
    "## load data into a MyPyTable\n",
    "nba_data = mypytable.MyPyTable()\n",
    "nba_data.load_from_file(\"nba_ratings.csv\")\n",
    "before_len = len(nba_data.data)\n",
    "\n",
    "# clean table by removing players with 0% 3 point percentage or FG percentage or below 73 rated\n",
    "\n",
    "rows_to_drop = []\n",
    "for i, row in enumerate(nba_data.data):\n",
    "  if nba_data.data[i][-1] < 75:\n",
    "    rows_to_drop.append(i)\n",
    "nba_data.drop_rows(rows_to_drop)\n",
    "\n",
    "nba_data.drop_rows_with_zero_in_col([\"3P%\", \"FG%\"])\n",
    "after_len = len(nba_data.data)\n",
    "print(before_len - after_len, \"/\", before_len, \"rows were removed during cleaning\")\n",
    "\n",
    "\n",
    "# get player names col as keys for the instances\n",
    "#player_names = nba_data.pop_column(\"PLAYER\") \n",
    "\n",
    "\n",
    "## TODO create a plot for distribution\n",
    "# get ratings col (y) \n",
    "ratings = nba_data.get_column(\"rankings\")\n",
    "ratings = [myutils.ratings_discretizer(x) for x in ratings]\n",
    "\n",
    "nba_data = nba_data.get_subtable([\"PLAYER\", \"AGE\", \"MIN\", \"W\", \"GP\", \"PTS\", \"FG%\", \"3PM\", \"FT%\", \"REB\"])\n",
    "\n",
    "# change GP and W attributes to W% (win percentage) \n",
    "gp = nba_data.pop_column(\"GP\")\n",
    "\n",
    "win_index = nba_data.column_names.index(\"W\")\n",
    "nba_data.column_names[win_index] = \"W%\"\n",
    "\n",
    "for i, row in enumerate(nba_data.data):\n",
    "  nba_data.data[i][win_index] = round(nba_data.data[i][win_index] / gp[i], 2)\n",
    "\n",
    "\n",
    "\n",
    "nba_data.discretize_col([\"AGE\"], myutils.age_discretizer)\n",
    "nba_data.discretize_col([\"FT%\"], myutils.free_throw_discretizer)\n",
    "nba_data.discretize_col([\"MIN\"], myutils.mins_played_discretizer)\n",
    "nba_data.discretize_col([\"PTS\"], myutils.pts_discretizer)\n",
    "nba_data.discretize_col([\"3PM\"], myutils.threePTRS_made_discretizer)\n",
    "nba_data.discretize_col([\"REB\"], myutils.reb_discretizer)\n",
    "nba_data.discretize_col([\"FG%\"], myutils.fg_discretizer)\n",
    "nba_data.discretize_col([\"W%\"], myutils.win_percent_discretizer)\n",
    "\n",
    "nba_data.column_names.append(\"card type\")\n",
    "nba_data.data = [nba_data.data[i] + [ratings[i]] for i in range(len(ratings)) ] \n",
    "\n",
    "\n",
    "\n",
    "simple_dataset = nba_data.get_subtable([\"FG%\", \"MIN\", \"PTS\", \"3PM\"])\n",
    "\n",
    "\n",
    "sample_table = []\n",
    "for i in range(10):\n",
    "  sample_table.append(nba_data.data[np.random.randint(0, len(nba_data.data))])\n",
    "\n",
    "sample_table = mypytable.MyPyTable(nba_data.column_names, sample_table)\n",
    "print(\"Sample instances of discretized data\")\n",
    "sample_table.print_data()\n"
   ]
  },
  {
   "cell_type": "markdown",
   "metadata": {},
   "source": [
    "## Naive Bayes Classification\n",
    "Does the simple dataset classify better than the dataset with all of the attributes?\n",
    "\n",
    "\n",
    "Simple Dataset: (AGE, WINS, LOSSES, MINS, PTS)\n"
   ]
  },
  {
   "cell_type": "code",
   "execution_count": 78,
   "metadata": {},
   "outputs": [],
   "source": [
    "## get train / test folds (full and simple datasets)\n",
    "full_train_folds, full_test_folds = myevaluation.stratified_kfold_cross_validation(nba_data.data, ratings, n_splits=10)\n",
    "simple_train_folds, simple_test_folds = myevaluation.stratified_kfold_cross_validation(simple_dataset.data, ratings, n_splits=10)\n",
    "\n",
    "## get scores\n",
    "full_acc, full_err, full_pres, full_recall, full_f1, full_matrix = \\\n",
    "  myutils.get_scores_from_folds(nba_data.data, ratings, full_train_folds, full_test_folds, myclassifiers.MyDummyClassifier())\n",
    "\n",
    "simple_acc, simple_err, simple_pres, simple_recall, simple_f1, simple_matrix = \\\n",
    "  myutils.get_scores_from_folds(simple_dataset.data, ratings, simple_train_folds, simple_test_folds, myclassifiers.MyNaiveBayesClassifier())\n"
   ]
  },
  {
   "cell_type": "code",
   "execution_count": 79,
   "metadata": {},
   "outputs": [
    {
     "name": "stdout",
     "output_type": "stream",
     "text": [
      "Dataset           Accuracy    Error    Precision    Recall    F1 score\n",
      "--------------  ----------  -------  -----------  --------  ----------\n",
      "Full dataset          0.62     0.38            0         0           0\n",
      "Simple dataset        0.38     0.62            0         0           0\n"
     ]
    }
   ],
   "source": [
    "scores_table = mypytable.MyPyTable()\n",
    "scores_table.column_names = [\"Dataset\", \"Accuracy\", \"Error\", \"Precision\", \"Recall\", \"F1 score\"]\n",
    "scores_table.data = []\n",
    "scores_table.data.append([\"Full dataset\", full_acc, full_err, full_pres, full_recall, full_f1])\n",
    "scores_table.data.append([\"Simple dataset\", simple_acc, simple_err, simple_pres, simple_recall, simple_f1])\n",
    "\n",
    "scores_table.print_data()\n",
    "\n",
    "\n",
    "\n",
    "\n",
    "\n",
    "\n",
    "\n"
   ]
  }
 ],
 "metadata": {
  "interpreter": {
   "hash": "d4d1e4263499bec80672ea0156c357c1ee493ec2b1c70f0acce89fc37c4a6abe"
  },
  "kernelspec": {
   "display_name": "Python 3.9.7 ('base')",
   "language": "python",
   "name": "python3"
  },
  "language_info": {
   "codemirror_mode": {
    "name": "ipython",
    "version": 3
   },
   "file_extension": ".py",
   "mimetype": "text/x-python",
   "name": "python",
   "nbconvert_exporter": "python",
   "pygments_lexer": "ipython3",
   "version": "3.9.7"
  },
  "orig_nbformat": 4
 },
 "nbformat": 4,
 "nbformat_minor": 2
}
